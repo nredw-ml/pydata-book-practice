{
 "cells": [
  {
   "cell_type": "markdown",
   "id": "78e627a7",
   "metadata": {},
   "source": [
    "## Coding Problem - Easy\n",
    "Problem: Function Call Counter\n",
    "\n",
    "Create a function called make_tracker() that returns a tracking function. The tracking function should:\n",
    "\n",
    "- Accept any number of arguments\n",
    "- Count how many times it's been called\n",
    "- Remember all unique argument values it's seen\n",
    "- Return a dictionary with this information\n"
   ]
  },
  {
   "cell_type": "code",
   "execution_count": null,
   "id": "2c8010d1",
   "metadata": {},
   "outputs": [],
   "source": [
    "#Example\n",
    "tracker = make_tracker()\n",
    "\n",
    "print(tracker(\"hello\"))        # {'call_count': 1, 'unique_args': {'hello'}}\n",
    "print(tracker(\"world\"))        # {'call_count': 2, 'unique_args': {'hello', 'world'}}\n",
    "print(tracker(\"hello\"))        # {'call_count': 3, 'unique_args': {'hello', 'world'}}\n",
    "print(tracker(42, \"test\"))     # {'call_count': 4, 'unique_args': {'hello', 'world', 42, 'test'}}"
   ]
  },
  {
   "cell_type": "markdown",
   "id": "a9816cc0",
   "metadata": {},
   "source": [
    "### Requirements:\n",
    "\n",
    "- Use a closure (nested function) to maintain state\n",
    "- The returned function should handle multiple arguments per call\n",
    "- Don't use global variables\n",
    "- Unique args should be a set"
   ]
  },
  {
   "cell_type": "markdown",
   "id": "a60edf70",
   "metadata": {},
   "source": [
    "#### Solution:"
   ]
  },
  {
   "cell_type": "code",
   "execution_count": 8,
   "id": "2ecca7f1",
   "metadata": {},
   "outputs": [],
   "source": [
    "def make_tracker():\n",
    "    call_count = 0\n",
    "    unique_args = set()\n",
    "\n",
    "    def tracker(*args):\n",
    "        nonlocal call_count , unique_args\n",
    "        call_count += 1\n",
    "\n",
    "        # Set comprehension using add {unique_args.add(arg) for arg in args}\n",
    "        unique_args.update(args) # Better to just use update to union the sets?\n",
    "\n",
    "        return {\"call_count\": call_count, \"unique_args\": unique_args}\n",
    "    \n",
    "    return tracker"
   ]
  },
  {
   "cell_type": "code",
   "execution_count": 9,
   "id": "ba4654fb",
   "metadata": {},
   "outputs": [
    {
     "name": "stdout",
     "output_type": "stream",
     "text": [
      "{'call_count': 1, 'unique_args': {'hello'}}\n",
      "{'call_count': 2, 'unique_args': {'hello', 'world'}}\n",
      "{'call_count': 3, 'unique_args': {'hello', 'world'}}\n",
      "{'call_count': 4, 'unique_args': {'test', 'hello', 'world', 42}}\n"
     ]
    }
   ],
   "source": [
    "#Example\n",
    "tracker = make_tracker()\n",
    "\n",
    "print(tracker(\"hello\"))        # {'call_count': 1, 'unique_args': {'hello'}}\n",
    "print(tracker(\"world\"))        # {'call_count': 2, 'unique_args': {'hello', 'world'}}\n",
    "print(tracker(\"hello\"))        # {'call_count': 3, 'unique_args': {'hello', 'world'}}\n",
    "print(tracker(42, \"test\"))     # {'call_count': 4, 'unique_args': {'hello', 'world', 42, 'test'}}"
   ]
  },
  {
   "cell_type": "markdown",
   "id": "6cc9af94",
   "metadata": {},
   "source": [
    "## Medium Problem: Dictionary Transformation\n",
    "\n",
    "Problem:\n",
    "Write a function invert_dict(d) that takes a dictionary and returns a new dictionary where the keys and values are swapped. However, if multiple keys have the same value in the original dictionary, the inverted dictionary should map that value to a list of all keys that had that value."
   ]
  },
  {
   "cell_type": "code",
   "execution_count": 29,
   "id": "017c4f57",
   "metadata": {},
   "outputs": [],
   "source": [
    "# Example 1:\n",
    "\n",
    "# Input\n",
    "original_1 = {'a': 1, 'b': 2, 'c': 1, 'd': 3, 'e': 2}\n",
    "\n",
    "# Output\n",
    "inverted_1 = {1: ['a', 'c'], 2: ['b', 'e'], 3: ['d']}\n",
    "\n",
    "# Example 2:\n",
    "\n",
    "# Input\n",
    "original_2 = {'apple': 'red', 'banana': 'yellow', 'cherry': 'red'}\n",
    "\n",
    "# Output\n",
    "inverted_2 = {'red': ['apple', 'cherry'], 'yellow': ['banana']}"
   ]
  },
  {
   "cell_type": "markdown",
   "id": "63d6cc82",
   "metadata": {},
   "source": [
    "### Requirements:\n",
    "\n",
    "- Return a new dictionary (don't modify the original)\n",
    "- Values that appear multiple times should map to a list of their keys\n",
    "- Values that appear once should still map to a list (for consistency)\n",
    "- Handle empty dictionaries (return empty dict)\n",
    "\n",
    "How to verify: Test with the examples above and also try:\n",
    "- An empty dictionary: {}\n",
    "- A dictionary where all values are unique: {'x': 1, 'y': 2, 'z': 3}"
   ]
  },
  {
   "cell_type": "markdown",
   "id": "a1222058",
   "metadata": {},
   "source": [
    "#### Solution:"
   ]
  },
  {
   "cell_type": "code",
   "execution_count": 25,
   "id": "1188f977",
   "metadata": {},
   "outputs": [],
   "source": [
    "# def invert_dict(d):\n",
    "#     new_d = {}\n",
    "\n",
    "#     # Need to unpack the dict and reverse the key-value relationship of the original dict\n",
    "#     # How do I unpack these without losing the relationship?\n",
    "#     # Once reversed, need to reduce the new keys (the old values) down to unique pairs?\n",
    "\n",
    "#     new_keys = set(d.values())\n",
    "#     new_values = list(d.keys())\n",
    "\n",
    "#     # Loop through the new keys\n",
    "#     # If that new key is a value in the original dict d, then set the ORIGINAL key from d as the value in new_d\n",
    "\n",
    "#     for key in new_keys:\n",
    "#         for value in d.values():\n",
    "#             if key == value:\n",
    "#                 # new_d[key] = \n",
    "#                 pass\n",
    "\n",
    "#     #print(new_keys)\n",
    "#     #print(new_values)\n",
    "\n",
    "#     return new_d\n",
    "\n",
    "def invert_dict(d):\n",
    "    new_d = {}\n",
    "    \n",
    "    # Loop through original dict getting BOTH keys and values\n",
    "    for original_key, original_value in d.items():  # What method goes here?\n",
    "        \n",
    "        # If this value is not yet a key in new_d, create it with an empty list\n",
    "        if original_value not in new_d:\n",
    "            new_d[original_value] = []\n",
    "        \n",
    "        # Add the original key to the list for this value\n",
    "        new_d[original_value].append(original_key)\n",
    "    \n",
    "    return new_d"
   ]
  },
  {
   "cell_type": "code",
   "execution_count": 31,
   "id": "d1f6c33b",
   "metadata": {},
   "outputs": [
    {
     "name": "stdout",
     "output_type": "stream",
     "text": [
      "{1: ['a', 'c'], 2: ['b', 'e'], 3: ['d']}\n"
     ]
    },
    {
     "data": {
      "text/plain": [
       "True"
      ]
     },
     "execution_count": 31,
     "metadata": {},
     "output_type": "execute_result"
    }
   ],
   "source": [
    "test_1 = invert_dict(original_1)\n",
    "print(test_1)\n",
    "test_1 == inverted_1"
   ]
  },
  {
   "cell_type": "code",
   "execution_count": 32,
   "id": "0482c2c9",
   "metadata": {},
   "outputs": [
    {
     "name": "stdout",
     "output_type": "stream",
     "text": [
      "{'red': ['apple', 'cherry'], 'yellow': ['banana']}\n"
     ]
    },
    {
     "data": {
      "text/plain": [
       "True"
      ]
     },
     "execution_count": 32,
     "metadata": {},
     "output_type": "execute_result"
    }
   ],
   "source": [
    "test_2 = invert_dict(original_2)\n",
    "print(test_2)\n",
    "test_2 == inverted_2"
   ]
  },
  {
   "cell_type": "code",
   "execution_count": 33,
   "id": "ec6f6e9d",
   "metadata": {},
   "outputs": [
    {
     "data": {
      "text/plain": [
       "{}"
      ]
     },
     "execution_count": 33,
     "metadata": {},
     "output_type": "execute_result"
    }
   ],
   "source": [
    "invert_dict({})"
   ]
  },
  {
   "cell_type": "code",
   "execution_count": 35,
   "id": "c4255c03",
   "metadata": {},
   "outputs": [
    {
     "name": "stdout",
     "output_type": "stream",
     "text": [
      "{1: ['x'], 2: ['y'], 3: ['z']}\n"
     ]
    }
   ],
   "source": [
    "test_3 = invert_dict({'x': 1, 'y': 2, 'z': 3})\n",
    "print(test_3)"
   ]
  },
  {
   "cell_type": "markdown",
   "id": "b368d5ce",
   "metadata": {},
   "source": [
    "## Hard Problem: Nested Dictionary MergerProblem:\n",
    "Write a function merge_dicts(dict1, dict2) that merges two dictionaries. The tricky part: if both dictionaries have the same key, you need to handle it intelligently based on the value types:\n",
    "- If both values are dictionaries, recursively merge them\n",
    "- If both values are lists, concatenate them\n",
    "- If both values are numbers, add them together\n",
    "- Otherwise, the value from dict2 overwrites the value from dict1"
   ]
  },
  {
   "cell_type": "code",
   "execution_count": null,
   "id": "63c44d86",
   "metadata": {},
   "outputs": [],
   "source": [
    "# Example 1 Nested dictionaries\n",
    "\n",
    "dict1 = {\n",
    "    'a': 1,\n",
    "    'b': {'x': 10, 'y': 20},\n",
    "    'c': [1, 2]\n",
    "}\n",
    "\n",
    "dict2 = {\n",
    "    'a': 5,\n",
    "    'b': {'y': 30, 'z': 40},\n",
    "    'c': [3, 4],\n",
    "    'd': 100\n",
    "}\n",
    "\n",
    "result = merge_dicts(dict1, dict2)\n",
    "# Expected output:\n",
    "{\n",
    "    'a': 6,                          # 1 + 5\n",
    "    'b': {'x': 10, 'y': 50, 'z': 40}, # nested dicts merged, y: 20+30\n",
    "    'c': [1, 2, 3, 4],               # lists concatenated\n",
    "    'd': 100                          # new key from dict2\n",
    "}"
   ]
  },
  {
   "cell_type": "code",
   "execution_count": null,
   "id": "996083ec",
   "metadata": {},
   "outputs": [],
   "source": [
    "# Example 2 Type conflicts\n",
    "\n",
    "dict1 = {'a': 10, 'b': 'hello'}\n",
    "dict2 = {'a': 'world', 'b': 'goodbye'}\n",
    "\n",
    "result = merge_dicts(dict1, dict2)\n",
    "# Expected output:\n",
    "{\n",
    "    'a': 'world',    # different types, dict2 wins\n",
    "    'b': 'goodbye'   # both strings (not numbers), dict2 wins\n",
    "}"
   ]
  },
  {
   "cell_type": "markdown",
   "id": "8209ebd1",
   "metadata": {},
   "source": [
    "### Requirements:\n",
    "\n",
    "- Don't modify the original dictionaries\n",
    "- Handle nested dictionaries of arbitrary depth\n",
    "- Numbers include both int and float\n",
    "- Keys that only exist in one dict should appear in the result\n",
    "\n",
    "How to verify: Test with the examples above and also try:\n",
    "\n",
    "- Empty dictionaries\n",
    "- Deeply nested structures (3+ levels)\n",
    "- Mix of all the different value types"
   ]
  },
  {
   "cell_type": "markdown",
   "id": "0a24998f",
   "metadata": {},
   "source": [
    "### Hints:\n",
    "\n",
    "<details>\n",
    "<summary> Click to show hints </summary>\n",
    "\n",
    "\n",
    "- You'll need recursion (like the flatten problem from 3-1)\n",
    "- Use isinstance() to check types\n",
    "- Think about when to call merge_dicts() recursively\n",
    "\n",
    "</details>"
   ]
  },
  {
   "cell_type": "markdown",
   "id": "e5a01042",
   "metadata": {},
   "source": [
    "#### Solution:"
   ]
  },
  {
   "cell_type": "code",
   "execution_count": null,
   "id": "b14f4af7",
   "metadata": {},
   "outputs": [],
   "source": []
  },
  {
   "cell_type": "code",
   "execution_count": null,
   "id": "c450fbf9",
   "metadata": {},
   "outputs": [],
   "source": []
  }
 ],
 "metadata": {
  "kernelspec": {
   "display_name": "Python (pydata-book)",
   "language": "python",
   "name": "pydata-book"
  },
  "language_info": {
   "codemirror_mode": {
    "name": "ipython",
    "version": 3
   },
   "file_extension": ".py",
   "mimetype": "text/x-python",
   "name": "python",
   "nbconvert_exporter": "python",
   "pygments_lexer": "ipython3",
   "version": "3.13.7"
  }
 },
 "nbformat": 4,
 "nbformat_minor": 5
}
