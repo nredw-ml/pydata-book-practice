{
 "cells": [
  {
   "cell_type": "markdown",
   "id": "78e627a7",
   "metadata": {},
   "source": [
    "## Coding Problem - Easy\n",
    "Problem: Function Call Counter\n",
    "\n",
    "Create a function called make_tracker() that returns a tracking function. The tracking function should:\n",
    "\n",
    "- Accept any number of arguments\n",
    "- Count how many times it's been called\n",
    "- Remember all unique argument values it's seen\n",
    "- Return a dictionary with this information\n"
   ]
  },
  {
   "cell_type": "code",
   "execution_count": null,
   "id": "2c8010d1",
   "metadata": {},
   "outputs": [],
   "source": [
    "#Example\n",
    "tracker = make_tracker()\n",
    "\n",
    "print(tracker(\"hello\"))        # {'call_count': 1, 'unique_args': {'hello'}}\n",
    "print(tracker(\"world\"))        # {'call_count': 2, 'unique_args': {'hello', 'world'}}\n",
    "print(tracker(\"hello\"))        # {'call_count': 3, 'unique_args': {'hello', 'world'}}\n",
    "print(tracker(42, \"test\"))     # {'call_count': 4, 'unique_args': {'hello', 'world', 42, 'test'}}"
   ]
  },
  {
   "cell_type": "markdown",
   "id": "a9816cc0",
   "metadata": {},
   "source": [
    "### Requirements:\n",
    "\n",
    "- Use a closure (nested function) to maintain state\n",
    "- The returned function should handle multiple arguments per call\n",
    "- Don't use global variables\n",
    "- Unique args should be a set"
   ]
  },
  {
   "cell_type": "markdown",
   "id": "a60edf70",
   "metadata": {},
   "source": [
    "#### Solution:"
   ]
  },
  {
   "cell_type": "code",
   "execution_count": null,
   "id": "2ecca7f1",
   "metadata": {},
   "outputs": [],
   "source": []
  },
  {
   "cell_type": "code",
   "execution_count": null,
   "id": "ba4654fb",
   "metadata": {},
   "outputs": [],
   "source": [
    "#Example\n",
    "tracker = make_tracker()\n",
    "\n",
    "print(tracker(\"hello\"))        # {'call_count': 1, 'unique_args': {'hello'}}\n",
    "print(tracker(\"world\"))        # {'call_count': 2, 'unique_args': {'hello', 'world'}}\n",
    "print(tracker(\"hello\"))        # {'call_count': 3, 'unique_args': {'hello', 'world'}}\n",
    "print(tracker(42, \"test\"))     # {'call_count': 4, 'unique_args': {'hello', 'world', 42, 'test'}}"
   ]
  },
  {
   "cell_type": "markdown",
   "id": "6cc9af94",
   "metadata": {},
   "source": [
    "## Medium Problem: Dictionary Transformation\n",
    "\n",
    "Problem:\n",
    "Write a function invert_dict(d) that takes a dictionary and returns a new dictionary where the keys and values are swapped. However, if multiple keys have the same value in the original dictionary, the inverted dictionary should map that value to a list of all keys that had that value."
   ]
  },
  {
   "cell_type": "code",
   "execution_count": null,
   "id": "017c4f57",
   "metadata": {},
   "outputs": [],
   "source": [
    "# Example 1:\n",
    "\n",
    "# Input\n",
    "original_1 = {'a': 1, 'b': 2, 'c': 1, 'd': 3, 'e': 2}\n",
    "\n",
    "# Output\n",
    "inverted_1 = {1: ['a', 'c'], 2: ['b', 'e'], 3: ['d']}\n",
    "\n",
    "# Example 2:\n",
    "\n",
    "# Input\n",
    "original_2 = {'apple': 'red', 'banana': 'yellow', 'cherry': 'red'}\n",
    "\n",
    "# Output\n",
    "inverted_2 = {'red': ['apple', 'cherry'], 'yellow': ['banana']}"
   ]
  },
  {
   "cell_type": "markdown",
   "id": "63d6cc82",
   "metadata": {},
   "source": [
    "### Requirements:\n",
    "\n",
    "- Return a new dictionary (don't modify the original)\n",
    "- Values that appear multiple times should map to a list of their keys\n",
    "- Values that appear once should still map to a list (for consistency)\n",
    "- Handle empty dictionaries (return empty dict)\n",
    "\n",
    "How to verify: Test with the examples above and also try:\n",
    "- An empty dictionary: {}\n",
    "- A dictionary where all values are unique: {'x': 1, 'y': 2, 'z': 3}"
   ]
  },
  {
   "cell_type": "markdown",
   "id": "a1222058",
   "metadata": {},
   "source": [
    "#### Solution:"
   ]
  },
  {
   "cell_type": "code",
   "execution_count": null,
   "id": "1188f977",
   "metadata": {},
   "outputs": [],
   "source": []
  },
  {
   "cell_type": "code",
   "execution_count": null,
   "id": "d1f6c33b",
   "metadata": {},
   "outputs": [],
   "source": [
    "test_1 = invert_dict(original_1)\n",
    "print(test_1)\n",
    "test_1 == inverted_1"
   ]
  },
  {
   "cell_type": "code",
   "execution_count": null,
   "id": "0482c2c9",
   "metadata": {},
   "outputs": [],
   "source": [
    "test_2 = invert_dict(original_2)\n",
    "print(test_2)\n",
    "test_2 == inverted_2"
   ]
  },
  {
   "cell_type": "code",
   "execution_count": null,
   "id": "ec6f6e9d",
   "metadata": {},
   "outputs": [],
   "source": [
    "invert_dict({})"
   ]
  },
  {
   "cell_type": "code",
   "execution_count": null,
   "id": "c4255c03",
   "metadata": {},
   "outputs": [],
   "source": [
    "test_3 = invert_dict({'x': 1, 'y': 2, 'z': 3})\n",
    "print(test_3)"
   ]
  },
  {
   "cell_type": "markdown",
   "id": "b368d5ce",
   "metadata": {},
   "source": [
    "## Hard Problem: Nested Dictionary MergerProblem:\n",
    "Write a function merge_dicts(dict1, dict2) that merges two dictionaries. The tricky part: if both dictionaries have the same key, you need to handle it intelligently based on the value types:\n",
    "- If both values are dictionaries, recursively merge them\n",
    "- If both values are lists, concatenate them\n",
    "- If both values are numbers, add them together\n",
    "- Otherwise, the value from dict2 overwrites the value from dict1"
   ]
  },
  {
   "cell_type": "code",
   "execution_count": null,
   "id": "63c44d86",
   "metadata": {},
   "outputs": [],
   "source": [
    "# Example 1 Nested dictionaries\n",
    "\n",
    "dict1 = {\n",
    "    'a': 1,\n",
    "    'b': {'x': 10, 'y': 20},\n",
    "    'c': [1, 2]\n",
    "}\n",
    "\n",
    "dict2 = {\n",
    "    'a': 5,\n",
    "    'b': {'y': 30, 'z': 40},\n",
    "    'c': [3, 4],\n",
    "    'd': 100\n",
    "}\n",
    "\n",
    "result = merge_dicts(dict1, dict2)\n",
    "# Expected output:\n",
    "{\n",
    "    'a': 6,                          # 1 + 5\n",
    "    'b': {'x': 10, 'y': 50, 'z': 40}, # nested dicts merged, y: 20+30\n",
    "    'c': [1, 2, 3, 4],               # lists concatenated\n",
    "    'd': 100                          # new key from dict2\n",
    "}"
   ]
  },
  {
   "cell_type": "code",
   "execution_count": null,
   "id": "996083ec",
   "metadata": {},
   "outputs": [],
   "source": [
    "# Example 2 Type conflicts\n",
    "\n",
    "dict1 = {'a': 10, 'b': 'hello'}\n",
    "dict2 = {'a': 'world', 'b': 'goodbye'}\n",
    "\n",
    "result = merge_dicts(dict1, dict2)\n",
    "# Expected output:\n",
    "{\n",
    "    'a': 'world',    # different types, dict2 wins\n",
    "    'b': 'goodbye'   # both strings (not numbers), dict2 wins\n",
    "}"
   ]
  },
  {
   "cell_type": "markdown",
   "id": "8209ebd1",
   "metadata": {},
   "source": [
    "### Requirements:\n",
    "\n",
    "- Don't modify the original dictionaries\n",
    "- Handle nested dictionaries of arbitrary depth\n",
    "- Numbers include both int and float\n",
    "- Keys that only exist in one dict should appear in the result\n",
    "\n",
    "How to verify: Test with the examples above and also try:\n",
    "\n",
    "- Empty dictionaries\n",
    "- Deeply nested structures (3+ levels)\n",
    "- Mix of all the different value types"
   ]
  },
  {
   "cell_type": "markdown",
   "id": "0a24998f",
   "metadata": {},
   "source": [
    "### Hints:\n",
    "\n",
    "<details>\n",
    "<summary> Click to show hints </summary>\n",
    "\n",
    "\n",
    "- You'll need recursion (like the flatten problem from 3-1)\n",
    "- Use isinstance() to check types\n",
    "- Think about when to call merge_dicts() recursively\n",
    "\n",
    "</details>"
   ]
  },
  {
   "cell_type": "markdown",
   "id": "e5a01042",
   "metadata": {},
   "source": [
    "#### Solution:"
   ]
  },
  {
   "cell_type": "code",
   "execution_count": null,
   "id": "b14f4af7",
   "metadata": {},
   "outputs": [],
   "source": [
    "\n",
    "                "
   ]
  },
  {
   "cell_type": "code",
   "execution_count": null,
   "id": "c450fbf9",
   "metadata": {},
   "outputs": [],
   "source": [
    "# Example 1 Nested dictionaries\n",
    "\n",
    "dict1 = {\n",
    "    'a': 1,\n",
    "    'b': {'x': 10, 'y': 20},\n",
    "    'c': [1, 2]\n",
    "}\n",
    "\n",
    "dict2 = {\n",
    "    'a': 5,\n",
    "    'b': {'y': 30, 'z': 40},\n",
    "    'c': [3, 4],\n",
    "    'd': 100\n",
    "}\n",
    "\n",
    "result1 = merge_dicts(dict1, dict2)\n",
    "# Expected output:\n",
    "{\n",
    "    'a': 6,                          # 1 + 5\n",
    "    'b': {'x': 10, 'y': 50, 'z': 40}, # nested dicts merged, y: 20+30\n",
    "    'c': [1, 2, 3, 4],               # lists concatenated\n",
    "    'd': 100                          # new key from dict2\n",
    "}"
   ]
  },
  {
   "cell_type": "code",
   "execution_count": null,
   "id": "e1429551",
   "metadata": {},
   "outputs": [],
   "source": [
    "# Example 2 Type conflicts\n",
    "\n",
    "dict3 = {'a': 10, 'b': 'hello'}\n",
    "dict4 = {'a': 'world', 'b': 'goodbye'}\n",
    "\n",
    "result2 = merge_dicts(dict1, dict2)\n",
    "# Expected output:\n",
    "{\n",
    "    'a': 'world',    # different types, dict2 wins\n",
    "    'b': 'goodbye'   # both strings (not numbers), dict2 wins\n",
    "}"
   ]
  },
  {
   "cell_type": "code",
   "execution_count": null,
   "id": "9f93dfe4",
   "metadata": {},
   "outputs": [],
   "source": [
    "# Test 3: Empty dictionaries\n",
    "result3 = merge_dicts({}, {'a': 1})\n",
    "print(\"Test 3:\", result3)\n",
    "# Expected: {'a': 1}"
   ]
  },
  {
   "cell_type": "code",
   "execution_count": null,
   "id": "5b2d32a8",
   "metadata": {},
   "outputs": [],
   "source": [
    "result3b = merge_dicts({'a': 1}, {})\n",
    "print(\"Test 3b:\", result3b)\n",
    "# Expected: {'a': 1}"
   ]
  },
  {
   "cell_type": "code",
   "execution_count": null,
   "id": "94b08d49",
   "metadata": {},
   "outputs": [],
   "source": [
    "# Test 4: Deeply nested (3+ levels)\n",
    "dict5 = {\n",
    "    'level1': {\n",
    "        'level2': {\n",
    "            'level3': 5\n",
    "        }\n",
    "    }\n",
    "}\n",
    "\n",
    "dict6 = {\n",
    "    'level1': {\n",
    "        'level2': {\n",
    "            'level3': 10,\n",
    "            'level3b': 20\n",
    "        }\n",
    "    }\n",
    "}\n",
    "\n",
    "result4 = merge_dicts(dict5, dict6)\n",
    "print(\"Test 4:\", result4)\n",
    "# Expected: {'level1': {'level2': {'level3': 15, 'level3b': 20}}}"
   ]
  },
  {
   "cell_type": "code",
   "execution_count": null,
   "id": "7f10daf1",
   "metadata": {},
   "outputs": [],
   "source": [
    "# Test 5: Mix of all types\n",
    "dict7 = {\n",
    "    'num': 10,\n",
    "    'list': [1, 2],\n",
    "    'dict': {'a': 1},\n",
    "    'str': 'hello'\n",
    "}\n",
    "\n",
    "dict8 = {\n",
    "    'num': 5,\n",
    "    'list': [3, 4],\n",
    "    'dict': {'b': 2},\n",
    "    'str': 'world',\n",
    "    'new': 100\n",
    "}\n",
    "\n",
    "result5 = merge_dicts(dict7, dict8)\n",
    "print(\"Test 5:\", result5)\n",
    "# Expected: {'num': 15, 'list': [1, 2, 3, 4], 'dict': {'a': 1, 'b': 2}, 'str': 'world', 'new': 100}"
   ]
  }
 ],
 "metadata": {
  "kernelspec": {
   "display_name": "Python (pydata-book)",
   "language": "python",
   "name": "pydata-book"
  },
  "language_info": {
   "codemirror_mode": {
    "name": "ipython",
    "version": 3
   },
   "file_extension": ".py",
   "mimetype": "text/x-python",
   "name": "python",
   "nbconvert_exporter": "python",
   "pygments_lexer": "ipython3",
   "version": "3.13.7"
  }
 },
 "nbformat": 4,
 "nbformat_minor": 5
}
