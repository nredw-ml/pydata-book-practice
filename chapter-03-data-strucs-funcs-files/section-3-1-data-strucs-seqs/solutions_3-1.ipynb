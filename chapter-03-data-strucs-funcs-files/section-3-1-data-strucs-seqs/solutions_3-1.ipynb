{
 "cells": [
  {
   "cell_type": "markdown",
   "id": "fdd1b784",
   "metadata": {},
   "source": [
    "## Coding Problem 1 (Easy): ##\n",
    "\n",
    "Write a function that takes a list of words and returns a dictionary where keys are the first letters and values are lists of words starting with that letter. Handle both upper and lowercase by treating them as the same letter."
   ]
  },
  {
   "cell_type": "code",
   "execution_count": 23,
   "id": "02929163",
   "metadata": {},
   "outputs": [],
   "source": [
    "# Example:\n",
    "words = [\"Apple\", \"banana\", \"apricot\", \"Berry\", \"cherry\", \"Carrot\"]\n",
    "result = group_by_first_letter(words)\n",
    "# Should return: {'a': ['Apple', 'apricot'], 'b': ['banana', 'Berry'], 'c': ['cherry', 'Carrot']}"
   ]
  },
  {
   "cell_type": "markdown",
   "id": "2f905517",
   "metadata": {},
   "source": [
    "### Requirements:\n",
    "\n",
    "- Use setdefault() method (as shown in the book)\n",
    "- Convert first letters to lowercase for grouping\n",
    "- Keep original word casing in the lists"
   ]
  },
  {
   "cell_type": "markdown",
   "id": "1640c6d8",
   "metadata": {},
   "source": [
    "#### Solution:"
   ]
  },
  {
   "cell_type": "code",
   "execution_count": 52,
   "id": "35b31558",
   "metadata": {},
   "outputs": [],
   "source": [
    "def group_by_first_letter(words):\n",
    "\n",
    "    by_letter = {}\n",
    "\n",
    "    for word in words:\n",
    "        letter = word[0].lower()\n",
    "        by_letter.setdefault(letter, []).append(word)\n",
    "\n",
    "    return by_letter"
   ]
  },
  {
   "cell_type": "code",
   "execution_count": 25,
   "id": "814423d9",
   "metadata": {},
   "outputs": [
    {
     "data": {
      "text/plain": [
       "{'a': ['Apple', 'apricot'],\n",
       " 'b': ['banana', 'Berry'],\n",
       " 'c': ['cherry', 'Carrot']}"
      ]
     },
     "execution_count": 25,
     "metadata": {},
     "output_type": "execute_result"
    }
   ],
   "source": [
    "words = [\"Apple\", \"banana\", \"apricot\", \"Berry\", \"cherry\", \"Carrot\"]\n",
    "result = group_by_first_letter(words)\n",
    "result"
   ]
  },
  {
   "cell_type": "markdown",
   "id": "df965f7a",
   "metadata": {},
   "source": [
    "## Coding Problem 2 (Medium):\n",
    "Write a function that flattens a nested structure of lists and tuples (arbitrary depth) into a single list. The function should handle mixed nesting of lists and tuples."
   ]
  },
  {
   "cell_type": "code",
   "execution_count": null,
   "id": "5def934a",
   "metadata": {},
   "outputs": [],
   "source": [
    "# Example\n",
    "nested = [1, [2, 3], (4, [5, 6]), [[7, 8], 9], 10]\n",
    "result = flatten(nested)\n",
    "# Should return: [1, 2, 3, 4, 5, 6, 7, 8, 9, 10]"
   ]
  },
  {
   "cell_type": "markdown",
   "id": "144aa7cc",
   "metadata": {},
   "source": [
    "### Requirements:\n",
    "\n",
    "- Handle arbitrary levels of nesting\n",
    "- Work with both lists and tuples\n",
    "- Preserve the order of elements\n",
    "- Non-list/tuple items should be included as-is"
   ]
  },
  {
   "cell_type": "markdown",
   "id": "649ac5f1",
   "metadata": {},
   "source": [
    "#### Solution:"
   ]
  },
  {
   "cell_type": "code",
   "execution_count": 47,
   "id": "6921fc17",
   "metadata": {},
   "outputs": [],
   "source": [
    "def flatten(sequence):\n",
    "\n",
    "    flattened = []\n",
    "\n",
    "    for element in sequence:\n",
    "        if not (isinstance(element,(list,tuple))):\n",
    "            flattened.append(element)\n",
    "        else:\n",
    "            flattened.extend(flatten(element))\n",
    "\n",
    "    return flattened"
   ]
  },
  {
   "cell_type": "code",
   "execution_count": 45,
   "id": "55da444e",
   "metadata": {},
   "outputs": [
    {
     "data": {
      "text/plain": [
       "True"
      ]
     },
     "execution_count": 45,
     "metadata": {},
     "output_type": "execute_result"
    }
   ],
   "source": [
    "#Debugging\n",
    "\n",
    "a_list = [1,2,3]\n",
    "a_tuple = (1,2,3)\n",
    "a_int = 5\n",
    "\n",
    "not isinstance(a_int, (list,tuple))"
   ]
  },
  {
   "cell_type": "code",
   "execution_count": 49,
   "id": "3709e4a8",
   "metadata": {},
   "outputs": [
    {
     "name": "stdout",
     "output_type": "stream",
     "text": [
      "[1, 2, 3, 4, 5, 6, 7, 8, 9, 10]\n"
     ]
    }
   ],
   "source": [
    "nested = [1, [2, 3], (4, [5, 6]), [[7, 8], 9], 10]\n",
    "result = flatten(nested)\n",
    "print(result)"
   ]
  },
  {
   "cell_type": "code",
   "execution_count": 53,
   "id": "887ad176",
   "metadata": {},
   "outputs": [
    {
     "name": "stdout",
     "output_type": "stream",
     "text": [
      "[1, 2, 3, 4, 5]\n"
     ]
    }
   ],
   "source": [
    "deep = [1, [2, [3, [4, [5]]]]]\n",
    "result_2 = flatten(deep)\n",
    "print(result_2)"
   ]
  },
  {
   "cell_type": "markdown",
   "id": "1150f141",
   "metadata": {},
   "source": [
    "## Coding Problem 3 (Hard):\n",
    "Write a function that finds all \"anagram groups\" in a list of words. Two words are anagrams if they contain the same letters in a different order."
   ]
  },
  {
   "cell_type": "code",
   "execution_count": null,
   "id": "ab8bb903",
   "metadata": {},
   "outputs": [],
   "source": [
    "# Example\n",
    "words = [\"eat\", \"tea\", \"tan\", \"ate\", \"nat\", \"bat\", \"tab\"]\n",
    "result = find_anagram_groups(words)\n",
    "# Should return: [['eat', 'tea', 'ate'], ['tan', 'nat'], ['bat', 'tab']]"
   ]
  },
  {
   "cell_type": "markdown",
   "id": "bcb140de",
   "metadata": {},
   "source": [
    "### Requirements:\n",
    "\n",
    "- Return a list of lists, where each inner list is a group of anagrams\n",
    "- Order within groups doesn't matter, order of groups doesn't matter\n",
    "- Use a dictionary to track the groups\n",
    "- Think about what would make a good dictionary key for grouping anagrams"
   ]
  },
  {
   "cell_type": "markdown",
   "id": "a15c98a6",
   "metadata": {},
   "source": [
    "#### Solution:"
   ]
  },
  {
   "cell_type": "code",
   "execution_count": 72,
   "id": "8874c1c0",
   "metadata": {},
   "outputs": [],
   "source": [
    "def find_anagram_groups(words):\n",
    "\n",
    "    by_anagram = {}\n",
    "\n",
    "    for word in words:\n",
    "        sorted_word = ''.join(sorted(word))\n",
    "        by_anagram.setdefault(sorted_word, []).append(word)\n",
    "\n",
    "    anagram_list = []\n",
    "\n",
    "    for key in by_anagram:\n",
    "        anagram_list.append(by_anagram[key])\n",
    "\n",
    "    return anagram_list"
   ]
  },
  {
   "cell_type": "code",
   "execution_count": 73,
   "id": "a1183adf",
   "metadata": {},
   "outputs": [
    {
     "data": {
      "text/plain": [
       "[['eat', 'tea', 'ate'], ['tan', 'nat'], ['bat', 'tab']]"
      ]
     },
     "execution_count": 73,
     "metadata": {},
     "output_type": "execute_result"
    }
   ],
   "source": [
    "words = [\"eat\", \"tea\", \"tan\", \"ate\", \"nat\", \"bat\", \"tab\"]\n",
    "result = find_anagram_groups(words)\n",
    "result"
   ]
  }
 ],
 "metadata": {
  "kernelspec": {
   "display_name": "Python (pydata-book)",
   "language": "python",
   "name": "pydata-book"
  },
  "language_info": {
   "codemirror_mode": {
    "name": "ipython",
    "version": 3
   },
   "file_extension": ".py",
   "mimetype": "text/x-python",
   "name": "python",
   "nbconvert_exporter": "python",
   "pygments_lexer": "ipython3",
   "version": "3.13.7"
  }
 },
 "nbformat": 4,
 "nbformat_minor": 5
}
