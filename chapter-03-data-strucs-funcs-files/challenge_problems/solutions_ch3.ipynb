{
 "cells": [
  {
   "cell_type": "markdown",
   "id": "45308810",
   "metadata": {},
   "source": [
    "## Challenge Problem 1 (Moderate): Log File Analyzer\n",
    "\n",
    "Problem:\n",
    "You're given a log file where each line contains a timestamp, log level, and message in this format:\n",
    "\n",
    "- 2024-10-15 14:23:01 ERROR Database connection failed\n",
    "- 2024-10-15 14:23:45 INFO User logged in successfully\n",
    "- 2024-10-15 14:24:12 WARNING Memory usage at 85%\n",
    "- 2024-10-15 14:25:03 ERROR File not found: data.csv\n",
    "- 2024-10-15 14:26:17 INFO Processing completed\n",
    "\n",
    "Write a function analyze_logs(filepath) that:\n",
    "\n",
    "- Reads the log file\n",
    "- Returns a dictionary with log level statistics:\n",
    "    - Count of each log level\n",
    "    - List of all unique messages for each log level\n",
    "    - Most recent timestamp for each log level"
   ]
  },
  {
   "cell_type": "code",
   "execution_count": null,
   "id": "834a6f9c",
   "metadata": {},
   "outputs": [],
   "source": [
    "# Example Output:\n",
    "\n",
    "{\n",
    "    'ERROR': {\n",
    "        'count': 2,\n",
    "        'messages': ['Database connection failed', 'File not found: data.csv'],\n",
    "        'last_seen': '2024-10-15 14:25:03'\n",
    "    },\n",
    "    'INFO': {\n",
    "        'count': 2,\n",
    "        'messages': ['User logged in successfully', 'Processing completed'],\n",
    "        'last_seen': '2024-10-15 14:26:17'\n",
    "    },\n",
    "    'WARNING': {\n",
    "        'count': 1,\n",
    "        'messages': ['Memory usage at 85%'],\n",
    "        'last_seen': '2024-10-15 14:24:12'\n",
    "    }\n",
    "}"
   ]
  },
  {
   "cell_type": "markdown",
   "id": "142c57c1",
   "metadata": {},
   "source": [
    "### Requirements:\n",
    "\n",
    "- Use with statement for file handling\n",
    "- Specify UTF-8 encoding\n",
    "- Handle empty files gracefully (return empty dict)\n",
    "- Messages should be stored without duplicates (if same message appears twice, only store once)\n",
    "- Timestamps should be stored as strings (no datetime parsing needed)\n",
    "\n",
    "Test File Creation:\n",
    "Create a test file called test_logs.txt with the sample data above to test your solution."
   ]
  },
  {
   "cell_type": "markdown",
   "id": "163541d9",
   "metadata": {},
   "source": [
    "### How to verify:\n",
    "\n",
    "- Check that counts are correct for each level\n",
    "- Verify messages list has no duplicates\n",
    "- Confirm last_seen shows the most recent timestamp for each level\n",
    "- Test with an empty file\n",
    "\n",
    "### Input file has 10 entries total:\n",
    "\n",
    "- 4 ERRORs (but only 3 unique messages)\n",
    "- 4 INFOs (but only 3 unique messages)\n",
    "- 2 WARNINGs (2 unique messages)"
   ]
  },
  {
   "cell_type": "markdown",
   "id": "82246b21",
   "metadata": {},
   "source": [
    "#### Solution:"
   ]
  },
  {
   "cell_type": "code",
   "execution_count": 27,
   "id": "ff2f0d3b",
   "metadata": {},
   "outputs": [],
   "source": [
    "def analyze_logs(file):\n",
    "\n",
    "    log_stats = {}\n",
    "\n",
    "    # Get each line from the file\n",
    "    # Get a count of each occurence of the keys in each line\n",
    "\n",
    "\n",
    "    with open(file, encoding=\"utf-8\") as f:\n",
    "        lines = [x.split() for x in f]\n",
    "\n",
    "        for line in lines:\n",
    "            timestamp = line[0] + ' ' + line[1]\n",
    "            key = line[2]\n",
    "            message = \" \".join(line[3:])\n",
    "\n",
    "            # Create and increment the count for each error type\n",
    "            log_stats.setdefault(key, {}).setdefault(\"count\", 0)\n",
    "            log_stats[key][\"count\"] += 1\n",
    "\n",
    "            # Create messages list and append for each new unique message\n",
    "            log_stats.setdefault(key, {}).setdefault(\"messages\", [])\n",
    "\n",
    "            if message not in log_stats[key][\"messages\"]:\n",
    "                log_stats[key][\"messages\"].append(message)\n",
    "\n",
    "            # Create timestamp and replace each time a new one is seen\n",
    "            log_stats.setdefault(key, {}).setdefault(\"last_seen\", '')\n",
    "            log_stats[key][\"last_seen\"] = timestamp\n",
    "\n",
    "            # For testing:\n",
    "            # print(line)\n",
    "            # print(timestamp)\n",
    "            # print(key)\n",
    "            # print(message)  \n",
    "\n",
    "    return log_stats"
   ]
  },
  {
   "cell_type": "code",
   "execution_count": 29,
   "id": "be292b0d",
   "metadata": {},
   "outputs": [
    {
     "data": {
      "text/plain": [
       "{'ERROR': {'count': 4,\n",
       "  'messages': ['Database connection failed',\n",
       "   'File not found: data.csv',\n",
       "   'Network timeout'],\n",
       "  'last_seen': '2024-10-15 14:30:12'},\n",
       " 'INFO': {'count': 4,\n",
       "  'messages': ['User logged in successfully',\n",
       "   'Processing completed',\n",
       "   'Backup started'],\n",
       "  'last_seen': '2024-10-15 14:31:01'},\n",
       " 'WARNING': {'count': 2,\n",
       "  'messages': ['Memory usage at 85%', 'Disk space low'],\n",
       "  'last_seen': '2024-10-15 14:29:45'}}"
      ]
     },
     "execution_count": 29,
     "metadata": {},
     "output_type": "execute_result"
    }
   ],
   "source": [
    "analyze_logs(\"test_logs.txt\")"
   ]
  },
  {
   "cell_type": "code",
   "execution_count": 31,
   "id": "525fad0b",
   "metadata": {},
   "outputs": [
    {
     "data": {
      "text/plain": [
       "{}"
      ]
     },
     "execution_count": 31,
     "metadata": {},
     "output_type": "execute_result"
    }
   ],
   "source": [
    "analyze_logs(\"empty_file.txt\")"
   ]
  },
  {
   "cell_type": "markdown",
   "id": "237de3a8",
   "metadata": {},
   "source": [
    "## Challenge Problem 2 (Hard): Data Pipeline Processor\n",
    "Problem:\n",
    "You're building a data processing pipeline that reads multiple CSV-like files, transforms the data, and generates a summary report.\n",
    "\n",
    "You have transaction data files where each line contains: user_id,product,amount,date\n",
    "\n",
    "Example file content (transactions_2024_q1.txt):\n",
    "\n",
    "- 101,laptop,1200.50,2024-01-15\n",
    "- 102,mouse,25.99,2024-01-16\n",
    "- 101,keyboard,89.99,2024-01-20\n",
    "- 103,monitor,350.00,2024-02-01\n",
    "- 102,laptop,1200.50,2024-02-15\n",
    "- 101,mouse,25.99,2024-03-10\n",
    "\n",
    "Write a program with these functions:\n",
    "\n",
    "1. parse_transaction_file(filepath)\n",
    "\n",
    "- Reads the file and returns a list of dictionaries\n",
    "- Each dict should have keys: user_id, product, amount, date\n",
    "- Convert user_id to int and amount to float\n",
    "- Handle empty files (return empty list)\n",
    "\n",
    "\n",
    "2. group_by_user(transactions)\n",
    "\n",
    "- Takes the list of transaction dicts\n",
    "- Returns a nested dictionary structure:"
   ]
  },
  {
   "cell_type": "code",
   "execution_count": null,
   "id": "5a41c509",
   "metadata": {},
   "outputs": [],
   "source": [
    "output = {\n",
    "            user_id: {\n",
    "                'total_spent': float,\n",
    "                'products': [list of unique products],\n",
    "                'transaction_count': int,\n",
    "                'transactions': [list of original transaction dicts for this user]\n",
    "            }\n",
    "        }"
   ]
  },
  {
   "cell_type": "markdown",
   "id": "fab98851",
   "metadata": {},
   "source": [
    "3. generate_report(user_data, output_filepath)\n",
    "   - Takes the user data dictionary from group_by_user()\n",
    "   - Writes a formatted report to a file\n",
    "   - Report format:"
   ]
  },
  {
   "cell_type": "code",
   "execution_count": null,
   "id": "c03eaf54",
   "metadata": {},
   "outputs": [],
   "source": [
    "    #  USER SPENDING REPORT\n",
    "    #  ====================\n",
    "    # \n",
    "    #  User ID: 101\n",
    "    #  Total Spent: $1316.48\n",
    "    #  Number of Transactions: 3\n",
    "    #  Products Purchased: keyboard, laptop, mouse\n",
    "    # \n",
    "    #  User ID: 102\n",
    "    #  Total Spent: $1226.49\n",
    "    #  Number of Transactions: 2\n",
    "    #  Products Purchased: laptop, mouse\n",
    "    # \n",
    "    #  [etc...]\n",
    "    # \n",
    "    #  ====================\n",
    "    #  SUMMARY STATISTICS\n",
    "    #  ====================\n",
    "    #  Total Users: 3\n",
    "    #  Total Revenue: $2892.97\n",
    "    #  Average Spent per User: $964.32"
   ]
  },
  {
   "cell_type": "markdown",
   "id": "c2d7524c",
   "metadata": {},
   "source": [
    "### Requirements:\n",
    "\n",
    "- Use with statements and UTF-8 encoding for all file operations\n",
    "- Products list should be sorted alphabetically in the report\n",
    "- Users should be sorted by user_id in the report\n",
    "- Round monetary values to 2 decimal places in the report\n",
    "- Handle edge cases: empty files, single user, etc.\n",
    "\n",
    "### Test Files: \n",
    "Test input files provided for you. Your program should be able to process one or more transaction files.\n",
    "\n",
    "### Expected flow:"
   ]
  },
  {
   "cell_type": "code",
   "execution_count": null,
   "id": "b21da2e1",
   "metadata": {},
   "outputs": [],
   "source": [
    "# Parse the data\n",
    "transactions = parse_transaction_file(\"transactions_2024_q1.txt\")\n",
    "\n",
    "# Group by user\n",
    "user_data = group_by_user(transactions)\n",
    "\n",
    "# Generate report\n",
    "generate_report(user_data, \"spending_report.txt\")"
   ]
  },
  {
   "cell_type": "markdown",
   "id": "83a93614",
   "metadata": {},
   "source": [
    "### How to verify:\n",
    "\n",
    "- Check that user totals are calculated correctly\n",
    "- Verify unique products are captured (no duplicates)\n",
    "- Confirm report formatting is readable\n",
    "- Test with empty file\n",
    "- Test with single transaction"
   ]
  },
  {
   "cell_type": "markdown",
   "id": "c8e8490b",
   "metadata": {},
   "source": [
    "#### Solution:"
   ]
  },
  {
   "cell_type": "code",
   "execution_count": 24,
   "id": "2484a1b1",
   "metadata": {},
   "outputs": [],
   "source": [
    "def parse_transaction_file(file):\n",
    "\n",
    "    transactions = []\n",
    "    keys = [\"user_id\", \"product\", \"amount\", \"date\"]\n",
    "\n",
    "    with open(file, encoding=\"utf-8\") as f:\n",
    "        lines = [x.rstrip().split(\",\") for x in f]\n",
    "\n",
    "        for values in lines:\n",
    "\n",
    "            trans_dict = {}\n",
    "\n",
    "            #For testing\n",
    "            #print(keys)\n",
    "            #print(values)\n",
    "\n",
    "            for key, value in zip(keys,values):\n",
    "\n",
    "                if(key == \"user_id\"):\n",
    "                    trans_dict[key] = int(value)\n",
    "                elif(key == \"amount\"):\n",
    "                    trans_dict[key] = float(value)\n",
    "                else:\n",
    "                    trans_dict[key] = value\n",
    "\n",
    "            transactions.append(trans_dict)\n",
    "\n",
    "    return transactions\n"
   ]
  },
  {
   "cell_type": "code",
   "execution_count": 29,
   "id": "019f5247",
   "metadata": {},
   "outputs": [
    {
     "data": {
      "text/plain": [
       "[{'user_id': 101, 'product': 'laptop', 'amount': 1200.5, 'date': '2024-01-15'},\n",
       " {'user_id': 102, 'product': 'mouse', 'amount': 25.99, 'date': '2024-01-16'},\n",
       " {'user_id': 101,\n",
       "  'product': 'keyboard',\n",
       "  'amount': 89.99,\n",
       "  'date': '2024-01-20'},\n",
       " {'user_id': 103, 'product': 'monitor', 'amount': 350.0, 'date': '2024-02-01'},\n",
       " {'user_id': 102, 'product': 'laptop', 'amount': 1200.5, 'date': '2024-02-15'},\n",
       " {'user_id': 101, 'product': 'mouse', 'amount': 25.99, 'date': '2024-03-10'},\n",
       " {'user_id': 104,\n",
       "  'product': 'keyboard',\n",
       "  'amount': 89.99,\n",
       "  'date': '2024-03-15'},\n",
       " {'user_id': 103, 'product': 'mouse', 'amount': 25.99, 'date': '2024-03-20'},\n",
       " {'user_id': 104, 'product': 'monitor', 'amount': 350.0, 'date': '2024-03-25'}]"
      ]
     },
     "execution_count": 29,
     "metadata": {},
     "output_type": "execute_result"
    }
   ],
   "source": [
    "transactions = parse_transaction_file(\"transactions_q1.txt\")\n",
    "transactions"
   ]
  },
  {
   "cell_type": "code",
   "execution_count": 95,
   "id": "33338b9a",
   "metadata": {},
   "outputs": [],
   "source": [
    "def group_by_user(transactions):\n",
    "\n",
    "    grouped_users = {}\n",
    "\n",
    "    for transaction in transactions:\n",
    "\n",
    "        user_id = transaction[\"user_id\"]\n",
    "        product = transaction[\"product\"]\n",
    "        amount = transaction[\"amount\"]\n",
    "\n",
    "        grouped_users.setdefault(user_id,{\"total_spent\": 0, \"products\": [], \"transaction_count\": 0, \"transactions\": []})\n",
    "        grouped_users[user_id][\"total_spent\"] += amount\n",
    "        if product not in grouped_users[user_id][\"products\"]:\n",
    "            grouped_users[user_id][\"products\"].append(product)\n",
    "        grouped_users[user_id][\"transaction_count\"] += 1\n",
    "        grouped_users[user_id][\"transactions\"].append(transaction)\n",
    "\n",
    "    \n",
    "\n",
    "    return grouped_users"
   ]
  },
  {
   "cell_type": "code",
   "execution_count": 96,
   "id": "d889e943",
   "metadata": {},
   "outputs": [
    {
     "data": {
      "text/plain": [
       "{101: {'total_spent': 1316.48,\n",
       "  'products': ['laptop', 'keyboard', 'mouse'],\n",
       "  'transaction_count': 3,\n",
       "  'transactions': [{'user_id': 101,\n",
       "    'product': 'laptop',\n",
       "    'amount': 1200.5,\n",
       "    'date': '2024-01-15'},\n",
       "   {'user_id': 101,\n",
       "    'product': 'keyboard',\n",
       "    'amount': 89.99,\n",
       "    'date': '2024-01-20'},\n",
       "   {'user_id': 101,\n",
       "    'product': 'mouse',\n",
       "    'amount': 25.99,\n",
       "    'date': '2024-03-10'}]},\n",
       " 102: {'total_spent': 1226.49,\n",
       "  'products': ['mouse', 'laptop'],\n",
       "  'transaction_count': 2,\n",
       "  'transactions': [{'user_id': 102,\n",
       "    'product': 'mouse',\n",
       "    'amount': 25.99,\n",
       "    'date': '2024-01-16'},\n",
       "   {'user_id': 102,\n",
       "    'product': 'laptop',\n",
       "    'amount': 1200.5,\n",
       "    'date': '2024-02-15'}]},\n",
       " 103: {'total_spent': 375.99,\n",
       "  'products': ['monitor', 'mouse'],\n",
       "  'transaction_count': 2,\n",
       "  'transactions': [{'user_id': 103,\n",
       "    'product': 'monitor',\n",
       "    'amount': 350.0,\n",
       "    'date': '2024-02-01'},\n",
       "   {'user_id': 103,\n",
       "    'product': 'mouse',\n",
       "    'amount': 25.99,\n",
       "    'date': '2024-03-20'}]},\n",
       " 104: {'total_spent': 439.99,\n",
       "  'products': ['keyboard', 'monitor'],\n",
       "  'transaction_count': 2,\n",
       "  'transactions': [{'user_id': 104,\n",
       "    'product': 'keyboard',\n",
       "    'amount': 89.99,\n",
       "    'date': '2024-03-15'},\n",
       "   {'user_id': 104,\n",
       "    'product': 'monitor',\n",
       "    'amount': 350.0,\n",
       "    'date': '2024-03-25'}]}}"
      ]
     },
     "execution_count": 96,
     "metadata": {},
     "output_type": "execute_result"
    }
   ],
   "source": [
    "grouped_transactions = group_by_user(transactions)\n",
    "grouped_transactions"
   ]
  },
  {
   "cell_type": "code",
   "execution_count": 97,
   "id": "e9bcafc6",
   "metadata": {},
   "outputs": [],
   "source": [
    "def generate_report(user_data, output_filepath):\n",
    "    \n",
    "    total_users = 0\n",
    "    total_revenue = 0.0\n",
    "\n",
    "    with open(output_filepath, encoding=\"utf-8\", mode=\"w\") as output:\n",
    "        output.write(\"USER SPENDING REPORT\\n====================\\n\\n\")\n",
    "\n",
    "        for user_id, user_values in sorted(user_data.items()):\n",
    "            total_users += 1\n",
    "            total_revenue += user_values['total_spent']\n",
    "            products = \", \".join(sorted(user_values[\"products\"]))\n",
    "\n",
    "            output.write(f\"User ID: {user_id}\\n\")\n",
    "            output.write(f\"Total Spent: ${user_values[\"total_spent\"]:.2f}\\n\")\n",
    "            output.write(f\"Number of Transactions: {user_values[\"transaction_count\"]}\\n\")\n",
    "            output.write(f\"Products Purchased: {products}\\n\\n\")\n",
    "\n",
    "        output.write(\"====================\\nSUMMARY STATISTICS\\n====================\\n\")\n",
    "        output.write(f\"Total Users: {total_users}\\n\")\n",
    "        output.write(f\"Total Revenue: ${total_revenue:.2f}\\n\")\n",
    "        if(total_users != 0):\n",
    "            output.write(f\"Average Spent per User: ${total_revenue/total_users:.2f}\\n\")\n",
    "        else:\n",
    "            output.write(f\"Average Spent per User: $0.00\\n\")\n"
   ]
  },
  {
   "cell_type": "code",
   "execution_count": 98,
   "id": "826b402f",
   "metadata": {},
   "outputs": [],
   "source": [
    "generate_report(grouped_transactions, \"spending_report.txt\")"
   ]
  },
  {
   "cell_type": "code",
   "execution_count": 99,
   "id": "ea10819a",
   "metadata": {},
   "outputs": [
    {
     "name": "stdout",
     "output_type": "stream",
     "text": [
      "[]\n"
     ]
    }
   ],
   "source": [
    "empty_transactions = parse_transaction_file(\"transactions_empty.txt\")\n",
    "print(empty_transactions)\n",
    "empty_grouped_users = group_by_user(empty_transactions)\n",
    "generate_report(empty_grouped_users, \"empty_report.txt\")"
   ]
  },
  {
   "cell_type": "code",
   "execution_count": 100,
   "id": "056330ee",
   "metadata": {},
   "outputs": [],
   "source": [
    "single_transaction = parse_transaction_file(\"transactions_single.txt\")\n",
    "single_grouped_user = group_by_user(single_transaction)\n",
    "generate_report(single_grouped_user, \"single_transaction_report.txt\")"
   ]
  }
 ],
 "metadata": {
  "kernelspec": {
   "display_name": "Python (pydata-book)",
   "language": "python",
   "name": "pydata-book"
  },
  "language_info": {
   "codemirror_mode": {
    "name": "ipython",
    "version": 3
   },
   "file_extension": ".py",
   "mimetype": "text/x-python",
   "name": "python",
   "nbconvert_exporter": "python",
   "pygments_lexer": "ipython3",
   "version": "3.13.7"
  }
 },
 "nbformat": 4,
 "nbformat_minor": 5
}
