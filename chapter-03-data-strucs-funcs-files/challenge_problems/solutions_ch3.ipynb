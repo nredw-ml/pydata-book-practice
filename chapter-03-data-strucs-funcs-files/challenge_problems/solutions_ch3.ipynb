{
 "cells": [
  {
   "cell_type": "markdown",
   "id": "45308810",
   "metadata": {},
   "source": [
    "## Challenge Problem 1 (Moderate): Log File Analyzer\n",
    "\n",
    "Problem:\n",
    "You're given a log file where each line contains a timestamp, log level, and message in this format:\n",
    "\n",
    "- 2024-10-15 14:23:01 ERROR Database connection failed\n",
    "- 2024-10-15 14:23:45 INFO User logged in successfully\n",
    "- 2024-10-15 14:24:12 WARNING Memory usage at 85%\n",
    "- 2024-10-15 14:25:03 ERROR File not found: data.csv\n",
    "- 2024-10-15 14:26:17 INFO Processing completed\n",
    "\n",
    "Write a function analyze_logs(filepath) that:\n",
    "\n",
    "- Reads the log file\n",
    "- Returns a dictionary with log level statistics:\n",
    "    - Count of each log level\n",
    "    - List of all unique messages for each log level\n",
    "    - Most recent timestamp for each log level"
   ]
  },
  {
   "cell_type": "code",
   "execution_count": null,
   "id": "834a6f9c",
   "metadata": {},
   "outputs": [],
   "source": [
    "# Example Output:\n",
    "\n",
    "{\n",
    "    'ERROR': {\n",
    "        'count': 2,\n",
    "        'messages': ['Database connection failed', 'File not found: data.csv'],\n",
    "        'last_seen': '2024-10-15 14:25:03'\n",
    "    },\n",
    "    'INFO': {\n",
    "        'count': 2,\n",
    "        'messages': ['User logged in successfully', 'Processing completed'],\n",
    "        'last_seen': '2024-10-15 14:26:17'\n",
    "    },\n",
    "    'WARNING': {\n",
    "        'count': 1,\n",
    "        'messages': ['Memory usage at 85%'],\n",
    "        'last_seen': '2024-10-15 14:24:12'\n",
    "    }\n",
    "}"
   ]
  },
  {
   "cell_type": "markdown",
   "id": "142c57c1",
   "metadata": {},
   "source": [
    "### Requirements:\n",
    "\n",
    "- Use with statement for file handling\n",
    "- Specify UTF-8 encoding\n",
    "- Handle empty files gracefully (return empty dict)\n",
    "- Messages should be stored without duplicates (if same message appears twice, only store once)\n",
    "- Timestamps should be stored as strings (no datetime parsing needed)\n",
    "\n",
    "Test File Creation:\n",
    "Create a test file called test_logs.txt with the sample data above to test your solution."
   ]
  },
  {
   "cell_type": "markdown",
   "id": "163541d9",
   "metadata": {},
   "source": [
    "### How to verify:\n",
    "\n",
    "- Check that counts are correct for each level\n",
    "- Verify messages list has no duplicates\n",
    "- Confirm last_seen shows the most recent timestamp for each level\n",
    "- Test with an empty file\n",
    "\n",
    "### Input file has 10 entries total:\n",
    "\n",
    "- 4 ERRORs (but only 3 unique messages)\n",
    "- 4 INFOs (but only 3 unique messages)\n",
    "- 2 WARNINGs (2 unique messages)"
   ]
  },
  {
   "cell_type": "markdown",
   "id": "82246b21",
   "metadata": {},
   "source": [
    "#### Solution:"
   ]
  },
  {
   "cell_type": "code",
   "execution_count": null,
   "id": "ff2f0d3b",
   "metadata": {},
   "outputs": [],
   "source": [
    "def analyze_logs(file):\n",
    "\n",
    "    log_stats = {}\n",
    "\n",
    "    # Get each line from the file\n",
    "    # Get a count of each occurence of the keys in each line\n",
    "\n",
    "\n",
    "    with open(file, encoding=\"utf-8\") as f:\n",
    "        lines = [x.split() for x in f]\n",
    "\n",
    "        for line in lines:\n",
    "            timestamp = line[0] + line[1]\n",
    "            key = line[2]\n",
    "            message = line[3:]\n",
    "\n",
    "            \n",
    "\n",
    "    # For testing:\n",
    "    # print(line)\n",
    "    # print(timestamp)\n",
    "    # print(key)\n",
    "    # print(message)    \n",
    "\n",
    "    return log_stats"
   ]
  },
  {
   "cell_type": "code",
   "execution_count": 7,
   "id": "be292b0d",
   "metadata": {},
   "outputs": [
    {
     "name": "stdout",
     "output_type": "stream",
     "text": [
      "[['2024-10-15', '14:23:01', 'ERROR', 'Database', 'connection', 'failed'], ['2024-10-15', '14:23:45', 'INFO', 'User', 'logged', 'in', 'successfully'], ['2024-10-15', '14:24:12', 'WARNING', 'Memory', 'usage', 'at', '85%'], ['2024-10-15', '14:25:03', 'ERROR', 'File', 'not', 'found:', 'data.csv'], ['2024-10-15', '14:26:17', 'INFO', 'Processing', 'completed'], ['2024-10-15', '14:27:33', 'ERROR', 'Database', 'connection', 'failed'], ['2024-10-15', '14:28:09', 'INFO', 'User', 'logged', 'in', 'successfully'], ['2024-10-15', '14:29:45', 'WARNING', 'Disk', 'space', 'low'], ['2024-10-15', '14:30:12', 'ERROR', 'Network', 'timeout'], ['2024-10-15', '14:31:01', 'INFO', 'Backup', 'started']]\n",
      "['2024-10-1514:23:01', '2024-10-1514:23:45', '2024-10-1514:24:12', '2024-10-1514:25:03', '2024-10-1514:26:17', '2024-10-1514:27:33', '2024-10-1514:28:09', '2024-10-1514:29:45', '2024-10-1514:30:12', '2024-10-1514:31:01']\n",
      "['ERROR', 'INFO', 'WARNING', 'ERROR', 'INFO', 'ERROR', 'INFO', 'WARNING', 'ERROR', 'INFO']\n",
      "[['Database', 'connection', 'failed'], ['User', 'logged', 'in', 'successfully'], ['Memory', 'usage', 'at', '85%'], ['File', 'not', 'found:', 'data.csv'], ['Processing', 'completed'], ['Database', 'connection', 'failed'], ['User', 'logged', 'in', 'successfully'], ['Disk', 'space', 'low'], ['Network', 'timeout'], ['Backup', 'started']]\n"
     ]
    },
    {
     "data": {
      "text/plain": [
       "{'ERROR': {}, 'INFO': {}, 'WARNING': {}}"
      ]
     },
     "execution_count": 7,
     "metadata": {},
     "output_type": "execute_result"
    }
   ],
   "source": [
    "analyze_logs(\"test_logs.txt\")"
   ]
  }
 ],
 "metadata": {
  "kernelspec": {
   "display_name": "Python (pydata-book)",
   "language": "python",
   "name": "pydata-book"
  },
  "language_info": {
   "codemirror_mode": {
    "name": "ipython",
    "version": 3
   },
   "file_extension": ".py",
   "mimetype": "text/x-python",
   "name": "python",
   "nbconvert_exporter": "python",
   "pygments_lexer": "ipython3",
   "version": "3.13.7"
  }
 },
 "nbformat": 4,
 "nbformat_minor": 5
}
