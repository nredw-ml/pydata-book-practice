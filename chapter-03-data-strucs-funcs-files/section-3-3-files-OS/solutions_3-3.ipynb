{
 "cells": [
  {
   "cell_type": "markdown",
   "id": "c7b5a9e7",
   "metadata": {},
   "source": [
    "## Easy Coding Problem\n",
    "\n",
    "Problem: File Word Counter\n",
    "Write a function count_words_in_file(filepath) that:\n",
    "\n",
    "- Opens a text file with UTF-8 encoding\n",
    "- Reads all the text\n",
    "- Counts the total number of words in the file\n",
    "- Returns the count as an integer"
   ]
  },
  {
   "cell_type": "markdown",
   "id": "8c22bd33",
   "metadata": {},
   "source": [
    "### Requirements:\n",
    "\n",
    "- Use the with statement for proper file handling\n",
    "- Specify encoding=\"utf-8\"\n",
    "- Split on whitespace to count words\n",
    "- Handle the file properly (it should auto-close)"
   ]
  },
  {
   "cell_type": "code",
   "execution_count": null,
   "id": "f9d207e8",
   "metadata": {},
   "outputs": [],
   "source": [
    "# Example:\n",
    "# If example.txt contains:\n",
    "\n",
    "# Hello world\n",
    "# This is a test\n",
    "\n",
    "# Then:\n",
    "\n",
    "count_words_in_file(\"example.txt\")  # Returns: 6"
   ]
  },
  {
   "cell_type": "markdown",
   "id": "bedc0bc3",
   "metadata": {},
   "source": [
    "#### Solution:"
   ]
  },
  {
   "cell_type": "code",
   "execution_count": 39,
   "id": "4b900489",
   "metadata": {},
   "outputs": [],
   "source": [
    "def count_words_in_file(file):\n",
    "\n",
    "    with open(\"example.txt\", encoding=\"utf-8\") as f:\n",
    "\n",
    "        lines = [x.split() for x in f]\n",
    "        word_count = sum(len(words) for words in lines)\n",
    "\n",
    "    return word_count"
   ]
  },
  {
   "cell_type": "code",
   "execution_count": 40,
   "id": "9a550e69",
   "metadata": {},
   "outputs": [
    {
     "data": {
      "text/plain": [
       "6"
      ]
     },
     "execution_count": 40,
     "metadata": {},
     "output_type": "execute_result"
    }
   ],
   "source": [
    "count_words_in_file(\"example.txt\")"
   ]
  },
  {
   "cell_type": "markdown",
   "id": "567a088b",
   "metadata": {},
   "source": [
    "### Medium Coding Problem\n",
    "Problem: Clean and Save Text File\n",
    "\n",
    "Write a function clean_text_file(input_path, output_path) that:\n",
    "\n",
    "1. Reads a text file (UTF-8 encoding)\n",
    "2. Processes each line by:\n",
    "\n",
    "    - Removing leading/trailing whitespace\n",
    "    - Skipping empty lines (lines with only whitespace)\n",
    "    - Converting all text to lowercase\n",
    "\n",
    "\n",
    "3. Writes the cleaned lines to a new output file\n",
    "4. Returns the number of lines written"
   ]
  },
  {
   "cell_type": "markdown",
   "id": "92c4bbce",
   "metadata": {},
   "source": [
    "### Requirements:\n",
    "\n",
    "Use with statement for both input and output files\n",
    "Specify UTF-8 encoding for both files\n",
    "Each output line should end with a newline character (\\n)\n",
    "Don't overwrite the input file"
   ]
  },
  {
   "cell_type": "code",
   "execution_count": null,
   "id": "6de6f6e3",
   "metadata": {},
   "outputs": [],
   "source": [
    "# Example\n",
    "# If messy.txt contains:\n",
    "\n",
    "#  Hello World  \n",
    "#   \n",
    "#Python is GREAT\n",
    "#  \n",
    "#   Data Analysis\n",
    "\n",
    "# Then:\n",
    "\n",
    "clean_text_file(\"messy.txt\", \"clean.txt\")  # Returns: 3\n",
    "\n",
    "# And `clean.txt` should contain:\n",
    "\n",
    "#hello world\n",
    "#python is great\n",
    "#data analysis"
   ]
  },
  {
   "cell_type": "markdown",
   "id": "2627b323",
   "metadata": {},
   "source": [
    "### How to verify:\n",
    "\n",
    "- Create a test file with messy formatting\n",
    "- Run your function\n",
    "- Open the output file and check it matches expected format\n",
    "- Verify the return count matches the number of non-empty lines"
   ]
  },
  {
   "cell_type": "markdown",
   "id": "d31678b2",
   "metadata": {},
   "source": [
    "#### Solution:"
   ]
  },
  {
   "cell_type": "code",
   "execution_count": 91,
   "id": "e3c4a1fb",
   "metadata": {},
   "outputs": [],
   "source": [
    "def clean_text_file(input, output):\n",
    "\n",
    "    with open(input, encoding=\"utf-8\") as fr:\n",
    "        lines = fr.readlines()\n",
    "        cleaned_lines = [x.strip().lower() + \"\\n\" for x in lines if x.strip()]\n",
    "\n",
    "    with open(output, encoding=\"utf-8\", mode=\"w\") as fw:\n",
    "        fw.writelines(cleaned_lines)\n",
    "\n",
    "    #print(lines)\n",
    "    #print(cleaned_lines)\n",
    "\n",
    "    return (len(cleaned_lines))\n",
    "    "
   ]
  },
  {
   "cell_type": "code",
   "execution_count": 92,
   "id": "2590a4f2",
   "metadata": {},
   "outputs": [
    {
     "data": {
      "text/plain": [
       "3"
      ]
     },
     "execution_count": 92,
     "metadata": {},
     "output_type": "execute_result"
    }
   ],
   "source": [
    "clean_text_file(\"messy.txt\",\"clean.txt\")"
   ]
  }
 ],
 "metadata": {
  "kernelspec": {
   "display_name": "Python (pydata-book)",
   "language": "python",
   "name": "pydata-book"
  },
  "language_info": {
   "codemirror_mode": {
    "name": "ipython",
    "version": 3
   },
   "file_extension": ".py",
   "mimetype": "text/x-python",
   "name": "python",
   "nbconvert_exporter": "python",
   "pygments_lexer": "ipython3",
   "version": "3.13.7"
  }
 },
 "nbformat": 4,
 "nbformat_minor": 5
}
