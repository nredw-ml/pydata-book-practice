{
 "cells": [
  {
   "cell_type": "markdown",
   "id": "fe375b80",
   "metadata": {},
   "source": [
    "## Problem 1: Easy - Reference Detective\n",
    "Write a function that demonstrates whether two variables refer to the same object or just have equal values."
   ]
  },
  {
   "cell_type": "code",
   "execution_count": 18,
   "id": "731a9619",
   "metadata": {},
   "outputs": [],
   "source": [
    "def check_references(a, b):\n",
    "    \"\"\"\n",
    "    Given two variables, return a dictionary showing:\n",
    "    - whether they're equal (==)\n",
    "    - whether they're the same object (is)\n",
    "    - their ids\n",
    "    \n",
    "    Example:\n",
    "    >>> x = [1, 2, 3]\n",
    "    >>> y = x\n",
    "    >>> z = list(x)\n",
    "    >>> check_references(x, y)\n",
    "    {'equal': True, 'same_object': True, 'a_id': 140123456, 'b_id': 140123456}\n",
    "    >>> check_references(x, z)  \n",
    "    {'equal': True, 'same_object': False, 'a_id': 140123456, 'b_id': 140789012}\n",
    "    \"\"\"\n",
    "    # Your code here\n",
    "    dict = {}\n",
    "\n",
    "    equal = a == b\n",
    "    same_object = a is b\n",
    "    a_id = id(a)\n",
    "    b_id = id(b)\n",
    "\n",
    "    dict = {'equal': equal, 'same_object': same_object, 'a_id': a_id, 'b_id': b_id}\n",
    "\n",
    "    return dict"
   ]
  },
  {
   "cell_type": "code",
   "execution_count": 19,
   "id": "00c23319",
   "metadata": {},
   "outputs": [
    {
     "data": {
      "text/plain": [
       "{'equal': True,\n",
       " 'same_object': True,\n",
       " 'a_id': 1917402200256,\n",
       " 'b_id': 1917402200256}"
      ]
     },
     "execution_count": 19,
     "metadata": {},
     "output_type": "execute_result"
    }
   ],
   "source": [
    "a = [1, 2, 3]\n",
    "b = a\n",
    "check_references(a, b)"
   ]
  },
  {
   "cell_type": "code",
   "execution_count": 20,
   "id": "77e643d7",
   "metadata": {},
   "outputs": [
    {
     "data": {
      "text/plain": [
       "{'equal': True,\n",
       " 'same_object': False,\n",
       " 'a_id': 1917402187200,\n",
       " 'b_id': 1917402201984}"
      ]
     },
     "execution_count": 20,
     "metadata": {},
     "output_type": "execute_result"
    }
   ],
   "source": [
    "x = [1, 2, 3]\n",
    "y = [1, 2, 3]\n",
    "check_references(x, y)"
   ]
  },
  {
   "cell_type": "code",
   "execution_count": 21,
   "id": "e0f93cd8",
   "metadata": {},
   "outputs": [
    {
     "data": {
      "text/plain": [
       "{'equal': True,\n",
       " 'same_object': True,\n",
       " 'a_id': 1917403821904,\n",
       " 'b_id': 1917403821904}"
      ]
     },
     "execution_count": 21,
     "metadata": {},
     "output_type": "execute_result"
    }
   ],
   "source": [
    "name_one = 'bob'\n",
    "name_two = name_one\n",
    "check_references(name_one, name_two)"
   ]
  },
  {
   "cell_type": "code",
   "execution_count": 22,
   "id": "cff88ab7",
   "metadata": {},
   "outputs": [
    {
     "data": {
      "text/plain": [
       "{'equal': True,\n",
       " 'same_object': True,\n",
       " 'a_id': 1917403363248,\n",
       " 'b_id': 1917403363248}"
      ]
     },
     "execution_count": 22,
     "metadata": {},
     "output_type": "execute_result"
    }
   ],
   "source": [
    "name_three = 'tim'\n",
    "name_four = 'tim'\n",
    "check_references(name_three, name_four)"
   ]
  },
  {
   "cell_type": "code",
   "execution_count": 23,
   "id": "8ee75156",
   "metadata": {},
   "outputs": [
    {
     "name": "stdout",
     "output_type": "stream",
     "text": [
      "{'equal': True, 'same_object': False, 'a_id': 1917403746240, 'b_id': 1917403363248}\n"
     ]
    }
   ],
   "source": [
    "name_three = \"\".join(['t', 'i', 'm'])  # Builds string dynamically\n",
    "name_four = \"tim\"                       # String literal\n",
    "print(check_references(name_three, name_four))"
   ]
  },
  {
   "cell_type": "markdown",
   "id": "13f514f7",
   "metadata": {},
   "source": [
    "## Problem 2: Medium - Type-Safe Calculator\n",
    "\n",
    "Create a function that performs arithmetic operations but enforces type safety like Python does naturally."
   ]
  },
  {
   "cell_type": "code",
   "execution_count": 87,
   "id": "a994342a",
   "metadata": {},
   "outputs": [],
   "source": [
    "def safe_calculate(a, b, operation):\n",
    "    \"\"\"\n",
    "    Perform an arithmetic operation on a and b, but handle type mismatches gracefully.\n",
    "    \n",
    "    Operations: 'add', 'subtract', 'multiply', 'divide'\n",
    "    \n",
    "    Rules:\n",
    "    - If both inputs are numbers (int or float), perform the operation\n",
    "    - If one is a string that can be converted to a number, convert and calculate\n",
    "    - If operation is 'add' and both are strings, concatenate them\n",
    "    - Otherwise, return an error message\n",
    "    \n",
    "    Example:\n",
    "    >>> safe_calculate(5, 3, 'add')\n",
    "    8\n",
    "    >>> safe_calculate('5', 3, 'multiply')\n",
    "    15\n",
    "    >>> safe_calculate('hello', 'world', 'add')\n",
    "    'helloworld'\n",
    "    >>> safe_calculate('hello', 5, 'multiply')\n",
    "    'Error: Cannot multiply str and int'\n",
    "    \"\"\"\n",
    "    both_strings = isinstance(a,str) and isinstance(b,str)\n",
    "    mismatch = (isinstance(a,str) and (isinstance(b,int) or isinstance(b,float))) or (isinstance(b,str) and (isinstance(a,int) or isinstance(a,float)))\n",
    "\n",
    "    if(operation == 'add'):\n",
    "        if(mismatch == False):\n",
    "            return a + b\n",
    "        else:\n",
    "            try:\n",
    "                if(isinstance(a,(int,float)) and type(b) == str):\n",
    "                    return a + float(b)\n",
    "                elif(isinstance(b,(int,float)) and type(a) == str):\n",
    "                    return float(a) + b\n",
    "                else:\n",
    "                    return a + b\n",
    "            except (ValueError, TypeError):\n",
    "                return f'Error: Cannot {operation} {type(a)} and {type(b)}'\n",
    "    elif(operation == 'subtract'):\n",
    "        if(both_strings == False and mismatch == False):\n",
    "            return a - b\n",
    "        else:\n",
    "            try:\n",
    "                if(isinstance(a,(int,float)) and type(b) == str):\n",
    "                    return a - float(b)\n",
    "                elif(isinstance(b,(int,float)) and type(a) == str):\n",
    "                    return float(a) - b\n",
    "                else:\n",
    "                    return a - b\n",
    "            except (ValueError, TypeError):\n",
    "                return f'Error: Cannot {operation} {type(a)} and {type(b)}'\n",
    "    elif(operation == 'multiply'):\n",
    "        if(both_strings == False and mismatch == False):\n",
    "            return a * b\n",
    "        else:\n",
    "            try:\n",
    "                if(isinstance(a,(int,float)) and type(b) == str):\n",
    "                    return a * float(b)\n",
    "                elif(isinstance(b,(int,float)) and type(a) == str):\n",
    "                    return float(a) * b\n",
    "                else:\n",
    "                    return a * b\n",
    "            except (ValueError, TypeError):\n",
    "                return f'Error: Cannot {operation} {type(a)} and {type(b)}'\n",
    "    elif(operation == 'divide'):\n",
    "        if(both_strings == False and mismatch == False):\n",
    "            return a / b\n",
    "        else:\n",
    "            try:\n",
    "                if(isinstance(a,(int,float)) and type(b) == str):\n",
    "                    return a / float(b)\n",
    "                elif(isinstance(b,(int,float)) and type(a) == str):\n",
    "                    return float(a) / b\n",
    "                else:\n",
    "                    return a / b\n",
    "            except (ValueError, TypeError):\n",
    "                return f'Error: Cannot {operation} {type(a)} and {type(b)}'\n",
    "    else:\n",
    "        return f'Error: Operation {operation} is not supported'"
   ]
  },
  {
   "cell_type": "code",
   "execution_count": 88,
   "id": "e4ce4c84",
   "metadata": {},
   "outputs": [
    {
     "data": {
      "text/plain": [
       "8"
      ]
     },
     "execution_count": 88,
     "metadata": {},
     "output_type": "execute_result"
    }
   ],
   "source": [
    "safe_calculate(5, 3, 'add')"
   ]
  },
  {
   "cell_type": "code",
   "execution_count": 89,
   "id": "d0602d66",
   "metadata": {},
   "outputs": [
    {
     "data": {
      "text/plain": [
       "15.0"
      ]
     },
     "execution_count": 89,
     "metadata": {},
     "output_type": "execute_result"
    }
   ],
   "source": [
    "safe_calculate('5', 3, 'multiply')"
   ]
  },
  {
   "cell_type": "code",
   "execution_count": 90,
   "id": "1fd942fc",
   "metadata": {},
   "outputs": [
    {
     "data": {
      "text/plain": [
       "'helloworld'"
      ]
     },
     "execution_count": 90,
     "metadata": {},
     "output_type": "execute_result"
    }
   ],
   "source": [
    "safe_calculate('hello', 'world', 'add')"
   ]
  },
  {
   "cell_type": "code",
   "execution_count": 91,
   "id": "d9d8838d",
   "metadata": {},
   "outputs": [
    {
     "data": {
      "text/plain": [
       "\"Error: Cannot multiply <class 'str'> and <class 'int'>\""
      ]
     },
     "execution_count": 91,
     "metadata": {},
     "output_type": "execute_result"
    }
   ],
   "source": [
    "safe_calculate('hello', 5, 'multiply')"
   ]
  },
  {
   "cell_type": "code",
   "execution_count": 92,
   "id": "ea1bddf4",
   "metadata": {},
   "outputs": [
    {
     "data": {
      "text/plain": [
       "25.0"
      ]
     },
     "execution_count": 92,
     "metadata": {},
     "output_type": "execute_result"
    }
   ],
   "source": [
    "safe_calculate('5', 5, 'multiply')"
   ]
  },
  {
   "cell_type": "code",
   "execution_count": 94,
   "id": "81cc506e",
   "metadata": {},
   "outputs": [
    {
     "data": {
      "text/plain": [
       "\"Error: Cannot subtract <class 'str'> and <class 'str'>\""
      ]
     },
     "execution_count": 94,
     "metadata": {},
     "output_type": "execute_result"
    }
   ],
   "source": [
    "safe_calculate('hello','goodbye','subtract')"
   ]
  },
  {
   "cell_type": "code",
   "execution_count": 95,
   "id": "e1699d3e",
   "metadata": {},
   "outputs": [
    {
     "data": {
      "text/plain": [
       "\"Error: Cannot divide <class 'str'> and <class 'float'>\""
      ]
     },
     "execution_count": 95,
     "metadata": {},
     "output_type": "execute_result"
    }
   ],
   "source": [
    "safe_calculate('hello', 20.1, 'divide')"
   ]
  }
 ],
 "metadata": {
  "kernelspec": {
   "display_name": "Python (pydata-book)",
   "language": "python",
   "name": "pydata-book"
  },
  "language_info": {
   "codemirror_mode": {
    "name": "ipython",
    "version": 3
   },
   "file_extension": ".py",
   "mimetype": "text/x-python",
   "name": "python",
   "nbconvert_exporter": "python",
   "pygments_lexer": "ipython3",
   "version": "3.13.7"
  }
 },
 "nbformat": 4,
 "nbformat_minor": 5
}
