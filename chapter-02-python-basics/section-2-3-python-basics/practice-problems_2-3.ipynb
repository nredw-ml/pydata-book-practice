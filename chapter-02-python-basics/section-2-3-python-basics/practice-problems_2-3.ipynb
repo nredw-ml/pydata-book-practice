{
 "cells": [
  {
   "cell_type": "markdown",
   "id": "fe375b80",
   "metadata": {},
   "source": [
    "## Problem 1: Easy - Reference Detective\n",
    "Write a function that demonstrates whether two variables refer to the same object or just have equal values."
   ]
  },
  {
   "cell_type": "code",
   "execution_count": null,
   "id": "731a9619",
   "metadata": {},
   "outputs": [],
   "source": [
    "def check_references(a, b):\n",
    "    \"\"\"\n",
    "    Given two variables, return a dictionary showing:\n",
    "    - whether they're equal (==)\n",
    "    - whether they're the same object (is)\n",
    "    - their ids\n",
    "    \n",
    "    Example:\n",
    "    >>> x = [1, 2, 3]\n",
    "    >>> y = x\n",
    "    >>> z = list(x)\n",
    "    >>> check_references(x, y)\n",
    "    {'equal': True, 'same_object': True, 'a_id': 140123456, 'b_id': 140123456}\n",
    "    >>> check_references(x, z)  \n",
    "    {'equal': True, 'same_object': False, 'a_id': 140123456, 'b_id': 140789012}\n",
    "    \"\"\"\n",
    "    # Your code here"
   ]
  },
  {
   "cell_type": "markdown",
   "id": "13f514f7",
   "metadata": {},
   "source": [
    "## Problem 2: Medium - Type-Safe Calculator\n",
    "\n",
    "Create a function that performs arithmetic operations but enforces type safety like Python does naturally."
   ]
  },
  {
   "cell_type": "code",
   "execution_count": null,
   "id": "a994342a",
   "metadata": {},
   "outputs": [],
   "source": [
    "def safe_calculate(a, b, operation):\n",
    "    \"\"\"\n",
    "    Perform an arithmetic operation on a and b, but handle type mismatches gracefully.\n",
    "    \n",
    "    Operations: 'add', 'subtract', 'multiply', 'divide'\n",
    "    \n",
    "    Rules:\n",
    "    - If both inputs are numbers (int or float), perform the operation\n",
    "    - If one is a string that can be converted to a number, convert and calculate\n",
    "    - If operation is 'add' and both are strings, concatenate them\n",
    "    - Otherwise, return an error message\n",
    "    \n",
    "    Example:\n",
    "    >>> safe_calculate(5, 3, 'add')\n",
    "    8\n",
    "    >>> safe_calculate('5', 3, 'multiply')\n",
    "    15\n",
    "    >>> safe_calculate('hello', 'world', 'add')\n",
    "    'helloworld'\n",
    "    >>> safe_calculate('hello', 5, 'multiply')\n",
    "    'Error: Cannot multiply str and int'\n",
    "    \"\"\""
   ]
  }
 ],
 "metadata": {
  "kernelspec": {
   "display_name": "Python (pydata-book)",
   "language": "python",
   "name": "pydata-book"
  },
  "language_info": {
   "codemirror_mode": {
    "name": "ipython",
    "version": 3
   },
   "file_extension": ".py",
   "mimetype": "text/x-python",
   "name": "python",
   "nbconvert_exporter": "python",
   "pygments_lexer": "ipython3",
   "version": "3.13.7"
  }
 },
 "nbformat": 4,
 "nbformat_minor": 5
}
